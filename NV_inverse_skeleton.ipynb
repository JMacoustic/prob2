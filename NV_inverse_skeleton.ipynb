{
  "cells": [
    {
      "cell_type": "code",
      "execution_count": 4,
      "metadata": {
        "colab": {
          "base_uri": "https://localhost:8080/"
        },
        "id": "dSxdHJJvrWLF",
        "outputId": "24d9b70f-fe01-4bb7-c2ff-b509bda765d1"
      },
      "outputs": [
        {
          "name": "stdout",
          "output_type": "stream",
          "text": [
            "cuda:0\n"
          ]
        }
      ],
      "source": [
        "import torch\n",
        "import matplotlib.pyplot as plt\n",
        "import numpy as np\n",
        "import warnings\n",
        "import random\n",
        "import torch.nn as nn\n",
        "from torch.nn import Linear, Tanh\n",
        "import pandas as pd\n",
        "from copy import deepcopy\n",
        "\n",
        "warnings.filterwarnings(\"ignore\")\n",
        "\n",
        "device = torch.device('cuda:0' if torch.cuda.is_available() else 'cpu')\n",
        "print(device)"
      ]
    },
    {
      "cell_type": "code",
      "execution_count": 5,
      "metadata": {
        "colab": {
          "base_uri": "https://localhost:8080/",
          "height": 308
        },
        "id": "KiVzaHOWrhsp",
        "outputId": "97dca9c4-d93e-4f26-9ce3-40026a2b3213"
      },
      "outputs": [],
      "source": [
        "def set_seed(seed):\n",
        "    random.seed(seed)\n",
        "\n",
        "    np.random.seed(seed)\n",
        "\n",
        "    torch.manual_seed(seed)\n",
        "    torch.cuda.manual_seed(seed)\n",
        "    torch.cuda.manual_seed_all(seed)\n",
        "\n",
        "    torch.backends.cudnn.deterministic = True\n",
        "    torch.backends.cudnn.benchmark = False\n",
        "\n",
        "set_seed(42)"
      ]
    },
    {
      "cell_type": "code",
      "execution_count": 6,
      "metadata": {},
      "outputs": [
        {
          "name": "stdout",
          "output_type": "stream",
          "text": [
            "(4711, 2)\n"
          ]
        },
        {
          "data": {
            "image/png": "[encoded data removed]",
            "text/plain": [
              "<Figure size 640x480 with 1 Axes>"
            ]
          },
          "metadata": {},
          "output_type": "display_data"
        }
      ],
      "source": [
        "\n",
        "domain_path = \"./domain.csv\"\n",
        "domain_obs_path = \"./domain_obs.csv\"\n",
        "data_obs_path = \"./measurements_obs.csv\"\n",
        "\n",
        "domain = np.loadtxt(domain_path, delimiter=\",\", skiprows = 1)\n",
        "domain_obs = np.loadtxt(domain_obs_path, delimiter=\",\", skiprows = 1)\n",
        "data_obs = np.loadtxt(data_obs_path, delimiter=\",\", skiprows = 1)\n",
        "\n",
        "print(domain.shape)\n",
        "\n",
        "plt.scatter(domain[:, 0], domain[:, 1], s = 1, label = 'domain')\n",
        "plt.scatter(domain_obs[:, 0], domain_obs[:, 1], marker = 'x', linewidths = 1, s = 20, c = 'k')\n",
        "plt.axis('scaled')\n",
        "plt.legend()\n",
        "plt.show()"
      ]
    },
    {
      "cell_type": "code",
      "execution_count": 16,
      "metadata": {},
      "outputs": [],
      "source": [
        "rho = torch.tensor(1000.).to(device).requires_grad_(True)\n",
        "vis = torch.tensor(1e-3).to(device).requires_grad_(True)"
      ]
    },
    {
      "cell_type": "code",
      "execution_count": 7,
      "metadata": {
        "id": "vJJVmcIhtRu3"
      },
      "outputs": [],
      "source": [
        "class PINN(nn.Module):\n",
        "    def __init__(self):\n",
        "        super(PINN, self).__init__()\n",
        "        self.net = nn.Sequential(\n",
        "        Linear(2, 256),\n",
        "        Tanh(),\n",
        "        Linear(256, 3),\n",
        "        )\n",
        "\n",
        "    def forward(self, x):\n",
        "        x = x.float()\n",
        "        output = self.net(x)\n",
        "        vx, vy, p = output[:, 0:1], output[:, 1:2], output[:, 2:3]\n",
        "        return vx, vy, p"
      ]
    },
    {
      "cell_type": "code",
      "execution_count": 8,
      "metadata": {
        "id": "836C2pmNtSQF"
      },
      "outputs": [],
      "source": [
        "def derivative(y, t):\n",
        "    df = torch.autograd.grad(y, t, grad_outputs = torch.ones_like(y).to(device), create_graph = True)[0]\n",
        "    df_x = df[:, 0:1]\n",
        "    df_y = df[:, 1:2]\n",
        "    return df_x, df_y\n",
        "\n",
        "def requires_grad(x):\n",
        "    return torch.tensor(x, dtype = torch.float32, requires_grad = True).to(device)"
      ]
    },
    {
      "cell_type": "code",
      "execution_count": 9,
      "metadata": {
        "id": "i4LS0xHjtVix"
      },
      "outputs": [],
      "source": [
        "def PDE(model, domain):\n",
        "\n",
        "    vx, vy, p = model(domain)\n",
        "\n",
        "    dvx_x, dvx_y = derivative(vx, domain)\n",
        "    dvx_xx, _ = derivative(dvx_x, domain)\n",
        "    _, dvx_yy =  derivative(dvx_y, domain)\n",
        "\n",
        "    dvy_x, dvy_y = derivative(vy, domain)\n",
        "    dvy_xx, _ = derivative(dvy_x, domain)\n",
        "    _, dvy_yy = derivative(dvy_y, domain)\n",
        "\n",
        "    dp_x, dp_y = derivative(p, domain)\n",
        "\n",
        "    pde_vx = rho * (vx * dvx_x + vy * dvx_y) + dp_x - vis * (dvx_xx + dvx_yy)\n",
        "    pde_vy = rho * (vx * dvy_x + vy * dvy_y) + dp_y - vis * (dvy_xx + dvy_yy)\n",
        "    pde_cont = dvx_x + dvy_y\n",
        "\n",
        "    return pde_vx, pde_vy, pde_cont"
      ]
    },
    {
      "cell_type": "code",
      "execution_count": 10,
      "metadata": {
        "id": "4XtH0LHZtXr6"
      },
      "outputs": [],
      "source": [
        "model = PINN().to(device)\n",
        "loss_fn = nn.MSELoss()"
      ]
    },
    {
      "cell_type": "code",
      "execution_count": 18,
      "metadata": {},
      "outputs": [],
      "source": [
        "optimizer = torch.optim.Adam([{'params':model.parameters(), 'lr':1e-2},\n",
        "                              {'params': rho , 'lr': 1e-2},\n",
        "                              {'params': vis, 'lr': 1e-2}])"
      ]
    },
    {
      "cell_type": "code",
      "execution_count": 11,
      "metadata": {
        "id": "poDGwq7BtamW"
      },
      "outputs": [],
      "source": [
        "epoch = 0\n",
        "best_loss = np.inf\n",
        "loss_list = []\n",
        "rho_list, vis_list = [], []"
      ]
    },
    {
      "cell_type": "code",
      "execution_count": null,
      "metadata": {
        "colab": {
          "base_uri": "https://localhost:8080/",
          "height": 375
        },
        "id": "DoYWJHoltbHZ",
        "outputId": "d3f2f06f-0bf3-45cd-f51b-6ff7d7bc4caa"
      },
      "outputs": [],
      "source": [
        "## Requires grad\n",
        "domain = requires_grad(domain)\n",
        "Y_obs = requires_grad(domain_obs)\n",
        "data_obs = requires_grad(data_obs)\n",
        "\n",
        "while epoch < 100001:\n",
        "    ## PDE loss\n",
        "    PDE_vx, PDE_vy, PDE_cont = PDE(model, domain)\n",
        "    loss_PDE_vx = loss_fn(PDE_vx, torch.zeros_like(PDE_vx))\n",
        "    loss_PDE_vy = loss_fn(PDE_vy, torch.zeros_like(PDE_vy))\n",
        "    loss_PDE_cont = loss_fn(PDE_cont, torch.zeros_like(PDE_cont))\n",
        "    loss_pde = loss_PDE_vx + loss_PDE_vy + loss_PDE_cont\n",
        "\n",
        "    ## Data loss\n",
        "    u_obs, v_obs, p_obs = model(Y_obs)\n",
        "    loss_data_u = loss_fn(u_obs, data_obs[:, 0:1])\n",
        "    loss_data_v = loss_fn(v_obs, data_obs[:, 1:2])\n",
        "    loss_data_p = loss_fn(p_obs, data_obs[:, 2:3])\n",
        "    loss_data = loss_data_u + loss_data_v + loss_data_p\n",
        "\n",
        "    loss = loss_pde + loss_data\n",
        "\n",
        "    optimizer.zero_grad()\n",
        "    loss.backward()\n",
        "    optimizer.step()\n",
        "\n",
        "    loss_list.append(loss.item())\n",
        "    rho_list.append(rho.item())\n",
        "    vis_list.append(vis.item())\n",
        "\n",
        "    if epoch % 1000 == 0:\n",
        "        print('EPOCH : %6d/%6d | Loss_PDE : %5.4f| Loss_DATA : %5.4f | RHO : %.4f | VIS : %.4f' \\\n",
        "                %(epoch, 100000, loss_pde.item(), loss_data.item(), rho.item(), vis.item()))\n",
        "\n",
        "    epoch += 1\n",
        "\n",
        "save = False\n",
        "if save:\n",
        "    torch.save({\n",
        "                'epoch': epoch,\n",
        "                'model_state_dict': model.state_dict(),\n",
        "                'optimizer_state_dict': optimizer.state_dict(),\n",
        "                'optimal_state_dict': deepcopy(model.state_dict()),\n",
        "                'loss': loss_list,\n",
        "                }, 'model.pt')"
      ]
    },
    {
      "cell_type": "code",
      "execution_count": null,
      "metadata": {},
      "outputs": [],
      "source": [
        "vx, vy, p =\n",
        "vx = vx.detach().cpu().numpy() #(4711,1)\n",
        "vy = vy.detach().cpu().numpy() #(4711,1)\n",
        "p  = p.detach().cpu().numpy()  #(4711,1)\n",
        "\n",
        "\n",
        "rows = []\n",
        "\n",
        "for i in range(vx.shape[0]):\n",
        "    rows.append([i + 1, p[i].item(), vx[i].item(), vy[i].item(), rho.item(), vis.item()])\n",
        "\n",
        "columns = ['ID', 'pressure', 'x-velocity', 'y-velocity', 'rho', 'mu']\n",
        "df = pd.DataFrame(rows, columns=columns)\n",
        "\n",
        "output_path = \"./data.csv\"\n",
        "df.to_csv(output_path, index=False)"
      ]
    }
  ],
  "metadata": {
    "accelerator": "GPU",
    "colab": {
      "gpuType": "T4",
      "provenance": []
    },
    "kernelspec": {
      "display_name": "Python 3",
      "language": "python",
      "name": "python3"
    },
    "language_info": {
      "codemirror_mode": {
        "name": "ipython",
        "version": 3
      },
      "file_extension": ".py",
      "mimetype": "text/x-python",
      "name": "python",
      "nbconvert_exporter": "python",
      "pygments_lexer": "ipython3",
      "version": "3.12.8"
    }
  },
  "nbformat": 4,
  "nbformat_minor": 0
}
